{
 "cells": [
  {
   "cell_type": "code",
   "execution_count": 1,
   "metadata": {
    "collapsed": true
   },
   "outputs": [],
   "source": [
    "%matplotlib inline\n",
    "import pandas as pd\n",
    "import numpy as np\n",
    "import matplotlib.pyplot as plt"
   ]
  },
  {
   "cell_type": "code",
   "execution_count": 2,
   "metadata": {
    "collapsed": false
   },
   "outputs": [
    {
     "data": {
      "text/html": [
       "<div>\n",
       "<table border=\"1\" class=\"dataframe\">\n",
       "  <thead>\n",
       "    <tr style=\"text-align: right;\">\n",
       "      <th></th>\n",
       "      <th>Timestamp</th>\n",
       "      <th>Score</th>\n",
       "      <th>Why is a stock valuable?</th>\n",
       "      <th>Someone makes $30,000 in a year and pays $5,000 in income tax that year. If the next year they make $60,000, how much will they pay in income tax?</th>\n",
       "      <th>Which of the following is the least risky investment</th>\n",
       "      <th>Inflation is:</th>\n",
       "      <th>Which of the following is the riskiest investment strategy?</th>\n",
       "      <th>What is your major?</th>\n",
       "      <th>What is your gender?</th>\n",
       "      <th>In your opinion, how important is financial literacy?</th>\n",
       "    </tr>\n",
       "  </thead>\n",
       "  <tbody>\n",
       "    <tr>\n",
       "      <th>0</th>\n",
       "      <td>2016-10-26 21:54:04.548</td>\n",
       "      <td>5</td>\n",
       "      <td>It gives you the right to a portion of a corpo...</td>\n",
       "      <td>more than $10,000</td>\n",
       "      <td>Treasury bills</td>\n",
       "      <td>An increase in the cost of living</td>\n",
       "      <td>Invest all of your money in one company</td>\n",
       "      <td>IE</td>\n",
       "      <td>Female</td>\n",
       "      <td>7.0</td>\n",
       "    </tr>\n",
       "    <tr>\n",
       "      <th>1</th>\n",
       "      <td>2016-10-26 21:54:04.554</td>\n",
       "      <td>4</td>\n",
       "      <td>It gives you the right to a portion of a corpo...</td>\n",
       "      <td>more than $10,000</td>\n",
       "      <td>Treasury bills</td>\n",
       "      <td>A decrease in the cost of living</td>\n",
       "      <td>Invest all of your money in one company</td>\n",
       "      <td>CPE</td>\n",
       "      <td>Male</td>\n",
       "      <td>9.0</td>\n",
       "    </tr>\n",
       "    <tr>\n",
       "      <th>2</th>\n",
       "      <td>2016-10-26 21:55:41.323</td>\n",
       "      <td>3</td>\n",
       "      <td>It gives you the right to a portion of a corpo...</td>\n",
       "      <td>10000</td>\n",
       "      <td>Treasury bills</td>\n",
       "      <td>An increase in stock prices</td>\n",
       "      <td>Invest all of your money in one company</td>\n",
       "      <td>AGB</td>\n",
       "      <td>Toaster</td>\n",
       "      <td>10.0</td>\n",
       "    </tr>\n",
       "    <tr>\n",
       "      <th>3</th>\n",
       "      <td>2016-10-26 21:55:43.374</td>\n",
       "      <td>3</td>\n",
       "      <td>It gives you the right to a portion of a corpo...</td>\n",
       "      <td>10000</td>\n",
       "      <td>Corporate bonds</td>\n",
       "      <td>An increase in the cost of living</td>\n",
       "      <td>Invest all of your money in one company</td>\n",
       "      <td>Mechanical Engineering</td>\n",
       "      <td>Female</td>\n",
       "      <td>7.0</td>\n",
       "    </tr>\n",
       "    <tr>\n",
       "      <th>4</th>\n",
       "      <td>2016-10-26 21:57:11.405</td>\n",
       "      <td>2</td>\n",
       "      <td>It pays you a fixed amount of money every mont...</td>\n",
       "      <td>10000</td>\n",
       "      <td>Corporate bonds</td>\n",
       "      <td>An increase in the cost of living</td>\n",
       "      <td>Invest all of your money in one company</td>\n",
       "      <td>Grc</td>\n",
       "      <td>Female</td>\n",
       "      <td>6.0</td>\n",
       "    </tr>\n",
       "  </tbody>\n",
       "</table>\n",
       "</div>"
      ],
      "text/plain": [
       "                Timestamp  Score  \\\n",
       "0 2016-10-26 21:54:04.548      5   \n",
       "1 2016-10-26 21:54:04.554      4   \n",
       "2 2016-10-26 21:55:41.323      3   \n",
       "3 2016-10-26 21:55:43.374      3   \n",
       "4 2016-10-26 21:57:11.405      2   \n",
       "\n",
       "                            Why is a stock valuable?  \\\n",
       "0  It gives you the right to a portion of a corpo...   \n",
       "1  It gives you the right to a portion of a corpo...   \n",
       "2  It gives you the right to a portion of a corpo...   \n",
       "3  It gives you the right to a portion of a corpo...   \n",
       "4  It pays you a fixed amount of money every mont...   \n",
       "\n",
       "  Someone makes $30,000 in a year and pays $5,000 in income tax that year. If the next year they make $60,000, how much will they pay in income tax?  \\\n",
       "0                                  more than $10,000                                                                                                   \n",
       "1                                  more than $10,000                                                                                                   \n",
       "2                                              10000                                                                                                   \n",
       "3                                              10000                                                                                                   \n",
       "4                                              10000                                                                                                   \n",
       "\n",
       "  Which of the following is the least risky investment  \\\n",
       "0                                     Treasury bills     \n",
       "1                                     Treasury bills     \n",
       "2                                     Treasury bills     \n",
       "3                                    Corporate bonds     \n",
       "4                                    Corporate bonds     \n",
       "\n",
       "                       Inflation is:  \\\n",
       "0  An increase in the cost of living   \n",
       "1   A decrease in the cost of living   \n",
       "2        An increase in stock prices   \n",
       "3  An increase in the cost of living   \n",
       "4  An increase in the cost of living   \n",
       "\n",
       "  Which of the following is the riskiest investment strategy?  \\\n",
       "0            Invest all of your money in one company            \n",
       "1            Invest all of your money in one company            \n",
       "2            Invest all of your money in one company            \n",
       "3            Invest all of your money in one company            \n",
       "4            Invest all of your money in one company            \n",
       "\n",
       "       What is your major? What is your gender?  \\\n",
       "0                       IE               Female   \n",
       "1                      CPE                 Male   \n",
       "2                      AGB              Toaster   \n",
       "3  Mechanical Engineering                Female   \n",
       "4                      Grc               Female   \n",
       "\n",
       "   In your opinion, how important is financial literacy?  \n",
       "0                                                7.0      \n",
       "1                                                9.0      \n",
       "2                                               10.0      \n",
       "3                                                7.0      \n",
       "4                                                6.0      "
      ]
     },
     "execution_count": 2,
     "metadata": {},
     "output_type": "execute_result"
    }
   ],
   "source": [
    "data = pd.read_excel(\"Financial Questionnaire (Responses).xlsx\")\n",
    "data[:5]"
   ]
  },
  {
   "cell_type": "code",
   "execution_count": 3,
   "metadata": {
    "collapsed": false
   },
   "outputs": [],
   "source": [
    "#replace correct answers with True and incorrect ones with False\n",
    "    \n",
    "stock_value_grader = lambda resp: resp == \"It gives you the right to a portion of a corporation's assets and profits\"\n",
    "income_tax_grader = lambda resp: resp == \"more than $10,000\"\n",
    "least_risky_grader = lambda resp: resp == \"Treasury bills\"\n",
    "inflation_grader = lambda resp: resp == \"An increase in the cost of living\"\n",
    "riskiest_grader = lambda resp: resp == \"Invest all of your money in one company\"\n",
    "\n",
    "for (ix, func) in enumerate([stock_value_grader, income_tax_grader, least_risky_grader, inflation_grader, riskiest_grader]):\n",
    "    data[data.columns[ix + 2]] = data[data.columns[ix + 2]].map(func)\n",
    "\n",
    "data['Percent Correct'] = data['Score'] * 20.0\n",
    "    \n",
    "# make majors lowercase\n",
    "data[\"What is your major?\"] = data[\"What is your major?\"].map(lambda x: x.lower().strip())\n"
   ]
  },
  {
   "cell_type": "code",
   "execution_count": 4,
   "metadata": {
    "collapsed": false,
    "scrolled": true
   },
   "outputs": [
    {
     "data": {
      "text/html": [
       "<div>\n",
       "<table border=\"1\" class=\"dataframe\">\n",
       "  <thead>\n",
       "    <tr style=\"text-align: right;\">\n",
       "      <th></th>\n",
       "      <th>Timestamp</th>\n",
       "      <th>Score</th>\n",
       "      <th>Why is a stock valuable?</th>\n",
       "      <th>Someone makes $30,000 in a year and pays $5,000 in income tax that year. If the next year they make $60,000, how much will they pay in income tax?</th>\n",
       "      <th>Which of the following is the least risky investment</th>\n",
       "      <th>Inflation is:</th>\n",
       "      <th>Which of the following is the riskiest investment strategy?</th>\n",
       "      <th>What is your major?</th>\n",
       "      <th>What is your gender?</th>\n",
       "      <th>In your opinion, how important is financial literacy?</th>\n",
       "      <th>Percent Correct</th>\n",
       "    </tr>\n",
       "  </thead>\n",
       "  <tbody>\n",
       "    <tr>\n",
       "      <th>0</th>\n",
       "      <td>2016-10-26 21:54:04.548</td>\n",
       "      <td>5</td>\n",
       "      <td>True</td>\n",
       "      <td>True</td>\n",
       "      <td>True</td>\n",
       "      <td>True</td>\n",
       "      <td>True</td>\n",
       "      <td>ie</td>\n",
       "      <td>Female</td>\n",
       "      <td>7.0</td>\n",
       "      <td>100.0</td>\n",
       "    </tr>\n",
       "    <tr>\n",
       "      <th>1</th>\n",
       "      <td>2016-10-26 21:54:04.554</td>\n",
       "      <td>4</td>\n",
       "      <td>True</td>\n",
       "      <td>True</td>\n",
       "      <td>True</td>\n",
       "      <td>False</td>\n",
       "      <td>True</td>\n",
       "      <td>cpe</td>\n",
       "      <td>Male</td>\n",
       "      <td>9.0</td>\n",
       "      <td>80.0</td>\n",
       "    </tr>\n",
       "    <tr>\n",
       "      <th>2</th>\n",
       "      <td>2016-10-26 21:55:41.323</td>\n",
       "      <td>3</td>\n",
       "      <td>True</td>\n",
       "      <td>False</td>\n",
       "      <td>True</td>\n",
       "      <td>False</td>\n",
       "      <td>True</td>\n",
       "      <td>agb</td>\n",
       "      <td>Toaster</td>\n",
       "      <td>10.0</td>\n",
       "      <td>60.0</td>\n",
       "    </tr>\n",
       "    <tr>\n",
       "      <th>3</th>\n",
       "      <td>2016-10-26 21:55:43.374</td>\n",
       "      <td>3</td>\n",
       "      <td>True</td>\n",
       "      <td>False</td>\n",
       "      <td>False</td>\n",
       "      <td>True</td>\n",
       "      <td>True</td>\n",
       "      <td>mechanical engineering</td>\n",
       "      <td>Female</td>\n",
       "      <td>7.0</td>\n",
       "      <td>60.0</td>\n",
       "    </tr>\n",
       "    <tr>\n",
       "      <th>4</th>\n",
       "      <td>2016-10-26 21:57:11.405</td>\n",
       "      <td>2</td>\n",
       "      <td>False</td>\n",
       "      <td>False</td>\n",
       "      <td>False</td>\n",
       "      <td>True</td>\n",
       "      <td>True</td>\n",
       "      <td>grc</td>\n",
       "      <td>Female</td>\n",
       "      <td>6.0</td>\n",
       "      <td>40.0</td>\n",
       "    </tr>\n",
       "  </tbody>\n",
       "</table>\n",
       "</div>"
      ],
      "text/plain": [
       "                Timestamp  Score Why is a stock valuable?  \\\n",
       "0 2016-10-26 21:54:04.548      5                     True   \n",
       "1 2016-10-26 21:54:04.554      4                     True   \n",
       "2 2016-10-26 21:55:41.323      3                     True   \n",
       "3 2016-10-26 21:55:43.374      3                     True   \n",
       "4 2016-10-26 21:57:11.405      2                    False   \n",
       "\n",
       "  Someone makes $30,000 in a year and pays $5,000 in income tax that year. If the next year they make $60,000, how much will they pay in income tax?  \\\n",
       "0                                               True                                                                                                   \n",
       "1                                               True                                                                                                   \n",
       "2                                              False                                                                                                   \n",
       "3                                              False                                                                                                   \n",
       "4                                              False                                                                                                   \n",
       "\n",
       "  Which of the following is the least risky investment Inflation is:  \\\n",
       "0                                               True            True   \n",
       "1                                               True           False   \n",
       "2                                               True           False   \n",
       "3                                              False            True   \n",
       "4                                              False            True   \n",
       "\n",
       "  Which of the following is the riskiest investment strategy?  \\\n",
       "0                                               True            \n",
       "1                                               True            \n",
       "2                                               True            \n",
       "3                                               True            \n",
       "4                                               True            \n",
       "\n",
       "      What is your major? What is your gender?  \\\n",
       "0                      ie               Female   \n",
       "1                     cpe                 Male   \n",
       "2                     agb              Toaster   \n",
       "3  mechanical engineering               Female   \n",
       "4                     grc               Female   \n",
       "\n",
       "   In your opinion, how important is financial literacy?  Percent Correct  \n",
       "0                                                7.0                100.0  \n",
       "1                                                9.0                 80.0  \n",
       "2                                               10.0                 60.0  \n",
       "3                                                7.0                 60.0  \n",
       "4                                                6.0                 40.0  "
      ]
     },
     "execution_count": 4,
     "metadata": {},
     "output_type": "execute_result"
    }
   ],
   "source": [
    "data[:5]"
   ]
  },
  {
   "cell_type": "code",
   "execution_count": 5,
   "metadata": {
    "collapsed": false,
    "scrolled": false
   },
   "outputs": [
    {
     "data": {
      "text/plain": [
       "<matplotlib.text.Text at 0x1071da518>"
      ]
     },
     "execution_count": 5,
     "metadata": {},
     "output_type": "execute_result"
    },
    {
     "data": {
      "image/png": "[encoded data removed]",
      "text/plain": [
       "<matplotlib.figure.Figure at 0x1071a7630>"
      ]
     },
     "metadata": {},
     "output_type": "display_data"
    }
   ],
   "source": [
    "# Map each major to the college it is offered in\n",
    "\n",
    "ag = \"CAFES\"      #College of Agriculture, Food and Environmental Sciences\n",
    "arc = \"CAED\"      #College of Archetecture and Environmental Design\n",
    "cosam = \"COSAM\"   #College of Science and Math\n",
    "eng = \"CENG\"      #College of Engineering\n",
    "lib = \"CLA\"       #College of Liberal Arts\n",
    "bus = \"OCB\"       #Orfalea College of Business\n",
    "\n",
    "major_to_college = {'ag systems management': ag,\n",
    "                   'enve': eng,\n",
    "                   'kinesiology': cosam,\n",
    "                   'electrical engineering': eng,\n",
    "                    'civil '\n",
    "                   'ee': eng,\n",
    "                   'computer science': eng,\n",
    "                   'business': bus,\n",
    "                    'business ': bus,\n",
    "                   'biology': cosam,\n",
    "                    'bio': cosam,\n",
    "                    'econ': bus,\n",
    "                    'statistics': cosam,\n",
    "                    'eim': ag,\n",
    "                    'environmental engineering': eng,\n",
    "                    'finance': bus,\n",
    "                    'chem': cosam,\n",
    "                    'sociology': lib,\n",
    "                    'cpe': eng,\n",
    "                    'business administration': bus,\n",
    "                    'envm': ag,\n",
    "                    'food science': ag,\n",
    "                    'ie': eng,\n",
    "                    'biomedical engineering': eng,\n",
    "                    'computer engineering': eng,\n",
    "                    'industrial engineering': eng,\n",
    "                    'mechanical engineering': eng,\n",
    "                    'aerospace engineering': eng,\n",
    "                    'me': eng,\n",
    "                    'bmed': eng,\n",
    "                    'art and design': lib,\n",
    "                    'agb': ag,\n",
    "                    'liberal studies': cosam,\n",
    "                    'philosophy': lib,\n",
    "                    'aerospace': eng,\n",
    "                    'animal science': ag,\n",
    "                    'mechanical enginner': eng,\n",
    "                    'nutrition': ag,\n",
    "                    'agribusiness': ag,\n",
    "                    'agricultural business': ag,\n",
    "                    'graphic communications': lib,\n",
    "                    'physics': cosam,\n",
    "                    'aero': eng,\n",
    "                    'archetectural engineering': arc,\n",
    "                    'laes': lib,\n",
    "                    'ee': eng,\n",
    "                    'cs': eng,\n",
    "                    'economics': bus,\n",
    "                    'journalism': lib,\n",
    "                    'english': lib,\n",
    "                    'grc': lib,\n",
    "                    'architecture': arc,\n",
    "                    'civil engineering': eng,\n",
    "                    'architectural engineering': arc,\n",
    "                    'biology/psychology': np.NAN,\n",
    "                    'https://www.youtube.com/watch?v=dqw4w9wgxcq': np.NAN,\n",
    "                    '✋🏻❓❗️❓what ❓ the fuck😡😠😡😠': np.NAN\n",
    "                   }\n",
    "\n",
    "\n",
    "data[\"College\"] = data[\"What is your major?\"].replace(major_to_college)\n",
    "\n",
    "# plot number of responses from each major\n",
    "ax = data.groupby('College')['College'].count().plot('pie')\n",
    "ax.set_ylabel('')\n",
    "ax.set_title('Share of Responses by College')\n"
   ]
  },
  {
   "cell_type": "code",
   "execution_count": 6,
   "metadata": {
    "collapsed": false
   },
   "outputs": [
    {
     "data": {
      "text/plain": [
       "<matplotlib.text.Text at 0x1072f69e8>"
      ]
     },
     "execution_count": 6,
     "metadata": {},
     "output_type": "execute_result"
    },
    {
     "data": {
      "image/png": "[encoded data removed]",
      "text/plain": [
       "<matplotlib.figure.Figure at 0x1071abb70>"
      ]
     },
     "metadata": {},
     "output_type": "display_data"
    }
   ],
   "source": [
    "ax = data[data[\"College\"] == ag]['Score'].hist()\n",
    "ax.set_title(ag)"
   ]
  },
  {
   "cell_type": "code",
   "execution_count": 7,
   "metadata": {
    "collapsed": false
   },
   "outputs": [
    {
     "data": {
      "text/plain": [
       "<matplotlib.text.Text at 0x1073a7438>"
      ]
     },
     "execution_count": 7,
     "metadata": {},
     "output_type": "execute_result"
    },
    {
     "data": {
      "image/png": "[encoded data removed]",
      "text/plain": [
       "<matplotlib.figure.Figure at 0x1072ed7f0>"
      ]
     },
     "metadata": {},
     "output_type": "display_data"
    }
   ],
   "source": [
    "ax = data[data[\"College\"] == bus]['Score'].hist()\n",
    "ax.set_title(bus)"
   ]
  },
  {
   "cell_type": "code",
   "execution_count": 8,
   "metadata": {
    "collapsed": false
   },
   "outputs": [
    {
     "data": {
      "text/plain": [
       "<matplotlib.text.Text at 0x1074c7e10>"
      ]
     },
     "execution_count": 8,
     "metadata": {},
     "output_type": "execute_result"
    },
    {
     "data": {
      "image/png": "[encoded data removed]",
      "text/plain": [
       "<matplotlib.figure.Figure at 0x107399940>"
      ]
     },
     "metadata": {},
     "output_type": "display_data"
    }
   ],
   "source": [
    "ax = data[data[\"College\"] == eng]['Score'].hist()\n",
    "ax.set_title(eng)"
   ]
  },
  {
   "cell_type": "code",
   "execution_count": 9,
   "metadata": {
    "collapsed": false
   },
   "outputs": [
    {
     "data": {
      "text/plain": [
       "<matplotlib.text.Text at 0x107698780>"
      ]
     },
     "execution_count": 9,
     "metadata": {},
     "output_type": "execute_result"
    },
    {
     "data": {
      "image/png": "[encoded data removed]",
      "text/plain": [
       "<matplotlib.figure.Figure at 0x107563da0>"
      ]
     },
     "metadata": {},
     "output_type": "display_data"
    }
   ],
   "source": [
    "ax = data[data[\"College\"] == cosam]['Score'].hist()\n",
    "ax.set_title(cosam)"
   ]
  },
  {
   "cell_type": "code",
   "execution_count": 10,
   "metadata": {
    "collapsed": false
   },
   "outputs": [
    {
     "data": {
      "text/plain": [
       "<matplotlib.text.Text at 0x1079b6c50>"
      ]
     },
     "execution_count": 10,
     "metadata": {},
     "output_type": "execute_result"
    },
    {
     "data": {
      "image/png": "[encoded data removed]",
      "text/plain": [
       "<matplotlib.figure.Figure at 0x107643f60>"
      ]
     },
     "metadata": {},
     "output_type": "display_data"
    }
   ],
   "source": [
    "ax = data[data[\"College\"] == lib]['Score'].hist()\n",
    "ax.set_title(lib)"
   ]
  },
  {
   "cell_type": "code",
   "execution_count": 11,
   "metadata": {
    "collapsed": false
   },
   "outputs": [
    {
     "data": {
      "text/plain": [
       "<matplotlib.text.Text at 0x107b09400>"
      ]
     },
     "execution_count": 11,
     "metadata": {},
     "output_type": "execute_result"
    },
    {
     "data": {
      "image/png": "[encoded data removed]",
      "text/plain": [
       "<matplotlib.figure.Figure at 0x107a0fcc0>"
      ]
     },
     "metadata": {},
     "output_type": "display_data"
    }
   ],
   "source": [
    "ax = data[data[\"College\"] == arc]['Score'].hist()\n",
    "ax.set_title(arc)"
   ]
  },
  {
   "cell_type": "code",
   "execution_count": 12,
   "metadata": {
    "collapsed": false
   },
   "outputs": [
    {
     "data": {
      "text/plain": [
       "College\n",
       "CAED     4.200000\n",
       "CAFES    3.300000\n",
       "CENG     4.137931\n",
       "CLA      3.333333\n",
       "COSAM    3.500000\n",
       "OCB      4.000000\n",
       "Name: Score, dtype: float64"
      ]
     },
     "execution_count": 12,
     "metadata": {},
     "output_type": "execute_result"
    }
   ],
   "source": [
    "data.groupby('College')['Score'].mean()"
   ]
  },
  {
   "cell_type": "code",
   "execution_count": 13,
   "metadata": {
    "collapsed": false
   },
   "outputs": [
    {
     "data": {
      "text/plain": [
       "<matplotlib.text.Text at 0x107c60b70>"
      ]
     },
     "execution_count": 13,
     "metadata": {},
     "output_type": "execute_result"
    },
    {
     "data": {
      "image/png": "[encoded data removed]",
      "text/plain": [
       "<matplotlib.figure.Figure at 0x107af66d8>"
      ]
     },
     "metadata": {},
     "output_type": "display_data"
    }
   ],
   "source": [
    "ax = data.groupby(\"College\")['Score'].mean().sort_values().plot('bar')\n",
    "ax.set_xlabel('')\n",
    "ax.set_ylabel('mean score')\n",
    "ax.set_title('mean score by college')"
   ]
  },
  {
   "cell_type": "code",
   "execution_count": 14,
   "metadata": {
    "collapsed": false,
    "scrolled": true
   },
   "outputs": [
    {
     "data": {
      "image/png": "[encoded data removed]",
      "text/plain": [
       "<matplotlib.figure.Figure at 0x107c54f28>"
      ]
     },
     "metadata": {},
     "output_type": "display_data"
    }
   ],
   "source": [
    "def gender_filter(resp):\n",
    "    if resp == 'Male' or resp == 'Female' or resp == 'Prefer not to say': \n",
    "        return resp \n",
    "    else:\n",
    "        return np.NAN\n",
    "\n",
    "data['What is your gender?'] = data['What is your gender?'].map(gender_filter)\n",
    "\n",
    "ax = data.groupby('What is your gender?')['What is your gender?'].count().plot('bar')"
   ]
  },
  {
   "cell_type": "code",
   "execution_count": 15,
   "metadata": {
    "collapsed": false
   },
   "outputs": [
    {
     "data": {
      "text/plain": [
       "<matplotlib.text.Text at 0x107ee5208>"
      ]
     },
     "execution_count": 15,
     "metadata": {},
     "output_type": "execute_result"
    },
    {
     "data": {
      "image/png": "[encoded data removed]",
      "text/plain": [
       "<matplotlib.figure.Figure at 0x107de2be0>"
      ]
     },
     "metadata": {},
     "output_type": "display_data"
    }
   ],
   "source": [
    "ax = data.groupby(\"What is your gender?\")['Score'].mean().plot('bar')\n",
    "ax.set_xlabel('')\n",
    "ax.set_ylabel('mean score')\n",
    "ax.set_title('mean score by gender')"
   ]
  },
  {
   "cell_type": "code",
   "execution_count": 16,
   "metadata": {
    "collapsed": false,
    "scrolled": false
   },
   "outputs": [
    {
     "data": {
      "text/html": [
       "<div>\n",
       "<table border=\"1\" class=\"dataframe\">\n",
       "  <thead>\n",
       "    <tr style=\"text-align: right;\">\n",
       "      <th>What is your gender?</th>\n",
       "      <th>Female</th>\n",
       "      <th>Male</th>\n",
       "      <th>Prefer not to say</th>\n",
       "    </tr>\n",
       "    <tr>\n",
       "      <th>College</th>\n",
       "      <th></th>\n",
       "      <th></th>\n",
       "      <th></th>\n",
       "    </tr>\n",
       "  </thead>\n",
       "  <tbody>\n",
       "    <tr>\n",
       "      <th>CAED</th>\n",
       "      <td>4</td>\n",
       "      <td>1</td>\n",
       "      <td>0</td>\n",
       "    </tr>\n",
       "    <tr>\n",
       "      <th>CAFES</th>\n",
       "      <td>7</td>\n",
       "      <td>2</td>\n",
       "      <td>0</td>\n",
       "    </tr>\n",
       "    <tr>\n",
       "      <th>CENG</th>\n",
       "      <td>12</td>\n",
       "      <td>17</td>\n",
       "      <td>0</td>\n",
       "    </tr>\n",
       "    <tr>\n",
       "      <th>CLA</th>\n",
       "      <td>10</td>\n",
       "      <td>1</td>\n",
       "      <td>1</td>\n",
       "    </tr>\n",
       "    <tr>\n",
       "      <th>COSAM</th>\n",
       "      <td>10</td>\n",
       "      <td>6</td>\n",
       "      <td>0</td>\n",
       "    </tr>\n",
       "    <tr>\n",
       "      <th>OCB</th>\n",
       "      <td>5</td>\n",
       "      <td>12</td>\n",
       "      <td>0</td>\n",
       "    </tr>\n",
       "  </tbody>\n",
       "</table>\n",
       "</div>"
      ],
      "text/plain": [
       "What is your gender?  Female  Male  Prefer not to say\n",
       "College                                              \n",
       "CAED                       4     1                  0\n",
       "CAFES                      7     2                  0\n",
       "CENG                      12    17                  0\n",
       "CLA                       10     1                  1\n",
       "COSAM                     10     6                  0\n",
       "OCB                        5    12                  0"
      ]
     },
     "execution_count": 16,
     "metadata": {},
     "output_type": "execute_result"
    }
   ],
   "source": [
    "gender_ratios = pd.crosstab(data[\"College\"], data[\"What is your gender?\"])\n",
    "gender_ratios"
   ]
  },
  {
   "cell_type": "code",
   "execution_count": 17,
   "metadata": {
    "collapsed": false
   },
   "outputs": [
    {
     "data": {
      "text/plain": [
       "<matplotlib.text.Text at 0x10802a828>"
      ]
     },
     "execution_count": 17,
     "metadata": {},
     "output_type": "execute_result"
    },
    {
     "data": {
      "image/png": "[encoded data removed]",
      "text/plain": [
       "<matplotlib.figure.Figure at 0x107edc160>"
      ]
     },
     "metadata": {},
     "output_type": "display_data"
    }
   ],
   "source": [
    "gender_ratios['Male to Female percentage'] = gender_ratios['Male']/(gender_ratios['Female'] + gender_ratios['Male']) * 100\n",
    "ax = gender_ratios['Male to Female percentage'].plot('bar')\n",
    "ax.set_title('Percentage of males by major')\n"
   ]
  },
  {
   "cell_type": "code",
   "execution_count": 18,
   "metadata": {
    "collapsed": false
   },
   "outputs": [
    {
     "data": {
      "text/plain": [
       "What is your gender?\n",
       "Female               8.346939\n",
       "Male                 8.615385\n",
       "Prefer not to say    7.000000\n",
       "Name: In your opinion, how important is financial literacy?, dtype: float64"
      ]
     },
     "execution_count": 18,
     "metadata": {},
     "output_type": "execute_result"
    }
   ],
   "source": [
    "data.groupby('What is your gender?')['In your opinion, how important is financial literacy?'].mean()"
   ]
  },
  {
   "cell_type": "code",
   "execution_count": 19,
   "metadata": {
    "collapsed": false,
    "scrolled": true
   },
   "outputs": [
    {
     "data": {
      "text/plain": [
       "What is your gender?\n",
       "Female               3.510204\n",
       "Male                 4.179487\n",
       "Prefer not to say    4.000000\n",
       "Name: Score, dtype: float64"
      ]
     },
     "execution_count": 19,
     "metadata": {},
     "output_type": "execute_result"
    }
   ],
   "source": [
    "data.groupby(\"What is your gender?\")['Score'].mean()"
   ]
  },
  {
   "cell_type": "code",
   "execution_count": 20,
   "metadata": {
    "collapsed": false
   },
   "outputs": [
    {
     "data": {
      "text/plain": [
       "<matplotlib.legend.Legend at 0x107f8b748>"
      ]
     },
     "execution_count": 20,
     "metadata": {},
     "output_type": "execute_result"
    },
    {
     "data": {
      "image/png": "[encoded data removed]",
      "text/plain": [
       "<matplotlib.figure.Figure at 0x107f8bc88>"
      ]
     },
     "metadata": {},
     "output_type": "display_data"
    }
   ],
   "source": [
    "ax = data.groupby(['College', 'What is your gender?'])['Score'].mean().unstack().plot(kind='bar')\n",
    "ax.set_xlabel('College')\n",
    "ax.set_ylabel('Average Score')\n",
    "ax.legend(loc='upper center', bbox_to_anchor = (0.5, 1.22),ncol=3, fancybox=True, shadow=True, title = \"Gender\")"
   ]
  },
  {
   "cell_type": "code",
   "execution_count": null,
   "metadata": {
    "collapsed": true
   },
   "outputs": [],
   "source": []
  }
 ],
 "metadata": {
  "kernelspec": {
   "display_name": "Python 3",
   "language": "python",
   "name": "python3"
  },
  "language_info": {
   "codemirror_mode": {
    "name": "ipython",
    "version": 3
   },
   "file_extension": ".py",
   "mimetype": "text/x-python",
   "name": "python",
   "nbconvert_exporter": "python",
   "pygments_lexer": "ipython3",
   "version": "3.5.1"
  }
 },
 "nbformat": 4,
 "nbformat_minor": 0
}
